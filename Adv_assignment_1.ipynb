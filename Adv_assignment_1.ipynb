{
  "nbformat": 4,
  "nbformat_minor": 0,
  "metadata": {
    "colab": {
      "provenance": []
    },
    "kernelspec": {
      "name": "python3",
      "display_name": "Python 3"
    },
    "language_info": {
      "name": "python"
    }
  },
  "cells": [
    {
      "cell_type": "markdown",
      "source": [
        "**Q1. What is the purpose of Python's OOP?**"
      ],
      "metadata": {
        "id": "dp95ZAqOoiJZ"
      }
    },
    {
      "cell_type": "markdown",
      "source": [
        "**ANS : Purpose :**\n",
        "\n",
        "\n",
        "\n",
        "*   **Modularity and code organization : Oops allows us to break down the complex code into smaller intities called objects. Object encapsulate the methods and attributes into single entity it promot the modularity and make the code easy to understand**\n",
        "\n",
        "*   **Reusability: With oops in the program we can create the separate classes for separate task. Aslo we can reuse this classes in our codebase so with the help of oops we can reduce the work to write same functions or classes for multiple times this can reducing redundancy and promoting efficient development.**\n",
        "\n",
        "\n",
        "*   **Abstraction : The main objective of abstraction is to represent complex real-world objects or ideas using simplified models or representations.** \n",
        "\n",
        "* **Encapsulation : allow us to hide the internal details of the object and only expose the well defined interface it make it easier to work with and reducing dependencies between different parts of the code.**\n",
        "\n",
        "*   **Inheritance : Inheritance and polymorphism are two fundamental concepts in object-oriented programming that allow for code reuse and flexibility in working with objects. Inheritance means accessing the properties of one class to another class. Inherirance help us to avoid the writting same code for multiple times**\n",
        "\n",
        "* **Polymorphism in simple terms, refers to the ability of objects of different classes to be treated as \"many forms\". It allows you to use a single interface to represent multiple types of objects.**\n",
        "\n",
        "\n",
        "\n"
      ],
      "metadata": {
        "id": "D6PpukisovA4"
      }
    },
    {
      "cell_type": "markdown",
      "source": [
        "\n",
        "\n",
        "---\n",
        "\n"
      ],
      "metadata": {
        "id": "epN7v4KiwV2_"
      }
    },
    {
      "cell_type": "markdown",
      "source": [
        "**Q2. Where does an inheritance search look for an attribute?**"
      ],
      "metadata": {
        "id": "-AnYGxJWywbe"
      }
    },
    {
      "cell_type": "markdown",
      "source": [
        "**ANS :**\n",
        "\n",
        "* **Inheritance search looks for an attribute in three main places:**\n",
        "\n",
        "* **The object itself: When you try to access an attribute on an object, Python first checks if the attribute exists directly in the object itself. If it does, it uses that attribute.**\n",
        "\n",
        "* **The class: If the attribute is not found in the object, Python looks for it in the class of the object. Classes are like blueprints that define the attributes and behavior of objects. If the attribute is defined in the class, Python uses that attribute.**\n",
        "\n",
        "* **Parent classes: If the attribute is not found in the object or the class, Python continues the search in the parent classes. Inheritance allows classes to inherit attributes and behavior from their parent classes. Python checks each parent class in the order they are defined and looks for the attribute there.**"
      ],
      "metadata": {
        "id": "4pi88qDswXCN"
      }
    },
    {
      "cell_type": "markdown",
      "source": [
        "\n",
        "\n",
        "---\n",
        "\n"
      ],
      "metadata": {
        "id": "ZELE1jvpxPcR"
      }
    },
    {
      "cell_type": "markdown",
      "source": [
        "**Q3. How do you distinguish between a class object and an instance object?**"
      ],
      "metadata": {
        "id": "3mJqfcGPyqNh"
      }
    },
    {
      "cell_type": "markdown",
      "source": [
        "* **Class Object:**\n",
        "\n",
        "**A class object is an object that represents a blueprint or a template for creating instances of that class.**\n",
        "\n",
        "**It defines the structure, attributes, and behaviors that instances of the class will have.**\n",
        "\n",
        "**It is created when the class is defined in the code.**\n",
        "\n",
        "**You can access class attributes and methods directly using the class name itself.**\n",
        "\n",
        "**Class attributes are shared among all instances of the class.**\n",
        "\n",
        "**Examples: When you define a class like class Car: or class Person: in your code, the Car or Person is a class object.**\n",
        "\n",
        "\n",
        "\n",
        "---\n",
        "\n",
        "\n",
        "* **Instance Object:**\n",
        "\n",
        "**An instance object is a specific object created from a class. It is an individual occurrence or instantiation of the class.**\n",
        "\n",
        "**It represents a unique entity with its own set of attributes and can have different values for those attributes compared to other instances of the same class.**\n",
        "\n",
        "**It is created by calling the class as if it were a function.**\n",
        "\n",
        "**Instance objects have their own state and can have their own instance-specific attributes.**\n",
        "\n",
        "**You access instance attributes and methods through an instance of the class.**\n",
        "\n",
        "**Examples: If you create instances like my_car = Car() or person1 = Person(), my_car or person1 is an instance object.**"
      ],
      "metadata": {
        "id": "Xa6wAxU8x0nc"
      }
    },
    {
      "cell_type": "markdown",
      "source": [
        "\n",
        "\n",
        "---\n",
        "\n"
      ],
      "metadata": {
        "id": "xwpKPTD3ynsr"
      }
    },
    {
      "cell_type": "markdown",
      "source": [
        "**Q4. What makes the first argument in a class’s method function special?**"
      ],
      "metadata": {
        "id": "YbWNdRGay1vt"
      }
    },
    {
      "cell_type": "markdown",
      "source": [
        "* **ANS : The first argument in a class's method function, conventionally named self, is special because it represents the instance of the class itself. It allows the method to access and work with the specific attributes and behavior of that instance.**"
      ],
      "metadata": {
        "id": "xaoXf3vVy7_k"
      }
    },
    {
      "cell_type": "markdown",
      "source": [
        "\n",
        "\n",
        "---\n",
        "\n"
      ],
      "metadata": {
        "id": "_LeLrt6szq_O"
      }
    },
    {
      "cell_type": "markdown",
      "source": [
        "**Q5. What is the purpose of the __init__ method?**\n",
        "\n",
        "* **ANS : In simple terms, the __init__ method helps create an object with its initial characteristics, ensuring it starts off in the right way. It's like giving the object its identity and getting it ready to perform its intended tasks.**"
      ],
      "metadata": {
        "id": "-2ezwcAOzsCc"
      }
    },
    {
      "cell_type": "markdown",
      "source": [
        "\n",
        "\n",
        "---\n",
        "\n"
      ],
      "metadata": {
        "id": "43lCpyRK0aJh"
      }
    },
    {
      "cell_type": "markdown",
      "source": [
        "**Q6. What is the process for creating a class instance?**\n",
        "\n",
        "* **ANS : Define the Class: First, you need to define a class, which is like a blueprint or a template for creating objects. The class describes the attributes (characteristics) and methods (actions) that the objects of that class will have.**\n",
        "\n",
        "* **Create an Instance: To create an instance (object) of the class, you use the class name followed by parentheses. It's like using the blueprint to make a real object. For example, if your class is called \"Car,\" you create an instance by writing something like my_car = Car().**"
      ],
      "metadata": {
        "id": "Oj7esfAL0bsa"
      }
    },
    {
      "cell_type": "markdown",
      "source": [
        "\n",
        "\n",
        "---\n",
        "\n"
      ],
      "metadata": {
        "id": "HOmCp2_D1M8K"
      }
    },
    {
      "cell_type": "markdown",
      "source": [
        "**Q7. What is the process for creating a class?**\n",
        "\n",
        "* **Define the Class: To define a class, you give it a name and describe its attributes (characteristics) and methods (actions). Attributes are like the properties or information the object will have, while methods are like the functions or operations it can perform.**\n",
        "\n",
        "* **Create Attributes: Inside the class, you define the attributes that the objects of the class will have. These are variables that store data specific to each object. For example, if you have a class for a car, you might define attributes like color, model, and speed.**\n",
        "\n",
        "* **Define Methods: In addition to attributes, you define methods inside the class. These are functions that perform actions or operations related to the class. For example, a car class might have methods like \"start_engine\" or \"accelerate\" to define the behavior of the car objects.**"
      ],
      "metadata": {
        "id": "riyax9L81N13"
      }
    },
    {
      "cell_type": "markdown",
      "source": [
        "\n",
        "\n",
        "---\n",
        "\n"
      ],
      "metadata": {
        "id": "hp0J5IDl17OZ"
      }
    },
    {
      "cell_type": "markdown",
      "source": [
        "**Q8. How would you define the superclasses of a class?**\n",
        "\n",
        "**The superclasses of a class refer to the classes from which a particular class inherits attributes and methods. These superclasses are also known as parent classes or base classes.**\n",
        "\n",
        "**In Python, classes can be organized in a hierarchical structure using inheritance. A class can inherit from one or more superclasses, which means it inherits their attributes and methods, allowing for code reuse and specialization.**\n",
        "\n",
        "**To define the superclasses of a class, you include them in the parentheses after the class name when defining the class**"
      ],
      "metadata": {
        "id": "3q4FiEQH18yT"
      }
    },
    {
      "cell_type": "code",
      "execution_count": null,
      "metadata": {
        "id": "kA_3rFDSobOS"
      },
      "outputs": [],
      "source": [
        "class Subclass(Superclass1, Superclass2 , ...) :\n"
      ]
    },
    {
      "cell_type": "markdown",
      "source": [
        "\n",
        "\n",
        "---\n",
        "\n"
      ],
      "metadata": {
        "id": "yZTM8ZR62f07"
      }
    }
  ]
}